{
  "cells": [
    {
      "metadata": {},
      "cell_type": "markdown",
      "source": "# Access your data in Azure Notebooks\n\nData is the lifeblood of notebooks. Jupyter itself provides only a runtime environment for a notebook, and thus to do intresting work you need to bring data in from elsewhere.\n\nThis notebook provides examples of different ways to import data, all in a format that you can run and experience directly.\n\n- [Use curl to retrieve a file from GitHub](#curl)\n- [Use a REST API to retrieve online data](#restapi)\n- [Query an Azure SQL database](#azuresql)\n- [Access Azure Table Storage](#tablestorage)\n- [Access Azure Blobs](#blobs)\n  - [Share access to Azure Storage through Shared Access Signatures](#sharedaccess)\n- [Other Azure databases (references)](#otherdbs)"
    },
    {
      "metadata": {},
      "cell_type": "markdown",
      "source": "# Use `curl` to retrieve a file from the Internet <a name=\"curl\"></a> \n\nIn Python notebooks, you can invoke the command line using `!`, which allows you to download files directly from the Internet using a tool like `curl`, `wget`, and so on. For example, the following `curl` command downloads a file containing oil price data from GitHub, and stores it in the project as the file *oil_price_temp.csv*:"
    },
    {
      "metadata": {
        "trusted": true
      },
      "cell_type": "code",
      "source": "!curl https://raw.githubusercontent.com/petroleum101/figures/db46e7f48b8aab67a0dfe31696f6071fb7a84f1e/oil_price/oil_price.csv -o ../oil_price_temp.csv",
      "execution_count": 1,
      "outputs": [
        {
          "output_type": "stream",
          "text": "  % Total    % Received % Xferd  Average Speed   Time    Time     Time  Current\n                                 Dload  Upload   Total   Spent    Left  Speed\n100  5190  100  5190    0     0  24049      0 --:--:-- --:--:-- --:--:-- 24366\n",
          "name": "stdout"
        }
      ]
    },
    {
      "metadata": {},
      "cell_type": "markdown",
      "source": "Once the file is in the project, you can load it using any suitable code. For example, you can load it into a pandas dataframe, after which you can work with it however you like:"
    },
    {
      "metadata": {
        "trusted": true
      },
      "cell_type": "code",
      "source": "import pandas\ndataframe_file = pandas.read_csv('../oil_price_temp.csv')\ndataframe_file.head()",
      "execution_count": 2,
      "outputs": [
        {
          "output_type": "execute_result",
          "execution_count": 2,
          "data": {
            "text/html": "<div>\n<table border=\"1\" class=\"dataframe\">\n  <thead>\n    <tr style=\"text-align: right;\">\n      <th></th>\n      <th>Date</th>\n      <th>BP us dollar of the day</th>\n      <th>US Domestic Oil Price (US $) PET_F000000__3_A</th>\n      <th>U.S. Landed Costs of Saudi Arabian Light Crude Oil isa4990008a</th>\n      <th>BP Arabian Light posted at Ras Tanura.</th>\n      <th>Crude Oil Prices: Brent – Europe  ACOILBRENTEU</th>\n      <th>Crude Oil Prices: West Texas Intermediate (WTI)  ACOILWTICO</th>\n      <th>Imported Crude Oil Price (refiner average imported crude oil acquisition cost) (PET.R1300____3.A)</th>\n      <th>U.S. Crude Oil Domestic Acquisition Cost by Refiners, Annual (PET.R1200____3.A)</th>\n      <th>Dubai Crude Oil Price opendataforafrica.org/IMFPCP2014Jan</th>\n    </tr>\n  </thead>\n  <tbody>\n    <tr>\n      <th>0</th>\n      <td>1861</td>\n      <td>0.49</td>\n      <td>0.49</td>\n      <td>NaN</td>\n      <td>NaN</td>\n      <td>NaN</td>\n      <td>NaN</td>\n      <td>NaN</td>\n      <td>NaN</td>\n      <td>NaN</td>\n    </tr>\n    <tr>\n      <th>1</th>\n      <td>1862</td>\n      <td>1.05</td>\n      <td>1.05</td>\n      <td>NaN</td>\n      <td>NaN</td>\n      <td>NaN</td>\n      <td>NaN</td>\n      <td>NaN</td>\n      <td>NaN</td>\n      <td>NaN</td>\n    </tr>\n    <tr>\n      <th>2</th>\n      <td>1863</td>\n      <td>3.15</td>\n      <td>3.15</td>\n      <td>NaN</td>\n      <td>NaN</td>\n      <td>NaN</td>\n      <td>NaN</td>\n      <td>NaN</td>\n      <td>NaN</td>\n      <td>NaN</td>\n    </tr>\n    <tr>\n      <th>3</th>\n      <td>1864</td>\n      <td>8.06</td>\n      <td>8.06</td>\n      <td>NaN</td>\n      <td>NaN</td>\n      <td>NaN</td>\n      <td>NaN</td>\n      <td>NaN</td>\n      <td>NaN</td>\n      <td>NaN</td>\n    </tr>\n    <tr>\n      <th>4</th>\n      <td>1865</td>\n      <td>6.59</td>\n      <td>6.59</td>\n      <td>NaN</td>\n      <td>NaN</td>\n      <td>NaN</td>\n      <td>NaN</td>\n      <td>NaN</td>\n      <td>NaN</td>\n      <td>NaN</td>\n    </tr>\n  </tbody>\n</table>\n</div>",
            "text/plain": "   Date  BP us dollar of the day  \\\n0  1861                     0.49   \n1  1862                     1.05   \n2  1863                     3.15   \n3  1864                     8.06   \n4  1865                     6.59   \n\n   US Domestic Oil Price (US $) PET_F000000__3_A  \\\n0                                           0.49   \n1                                           1.05   \n2                                           3.15   \n3                                           8.06   \n4                                           6.59   \n\n   U.S. Landed Costs of Saudi Arabian Light Crude Oil isa4990008a  \\\n0                                                NaN                \n1                                                NaN                \n2                                                NaN                \n3                                                NaN                \n4                                                NaN                \n\n   BP Arabian Light posted at Ras Tanura.  \\\n0                                     NaN   \n1                                     NaN   \n2                                     NaN   \n3                                     NaN   \n4                                     NaN   \n\n   Crude Oil Prices: Brent – Europe  ACOILBRENTEU  \\\n0                                             NaN   \n1                                             NaN   \n2                                             NaN   \n3                                             NaN   \n4                                             NaN   \n\n   Crude Oil Prices: West Texas Intermediate (WTI)  ACOILWTICO  \\\n0                                                NaN             \n1                                                NaN             \n2                                                NaN             \n3                                                NaN             \n4                                                NaN             \n\n    Imported Crude Oil Price (refiner average imported crude oil acquisition cost) (PET.R1300____3.A)  \\\n0                                                NaN                                                    \n1                                                NaN                                                    \n2                                                NaN                                                    \n3                                                NaN                                                    \n4                                                NaN                                                    \n\n   U.S. Crude Oil Domestic Acquisition Cost by Refiners, Annual (PET.R1200____3.A)  \\\n0                                                NaN                                 \n1                                                NaN                                 \n2                                                NaN                                 \n3                                                NaN                                 \n4                                                NaN                                 \n\n   Dubai Crude Oil Price opendataforafrica.org/IMFPCP2014Jan  \n0                                                NaN          \n1                                                NaN          \n2                                                NaN          \n3                                                NaN          \n4                                                NaN          "
          },
          "metadata": {}
        }
      ]
    },
    {
      "metadata": {},
      "cell_type": "markdown",
      "source": "## Use REST APIs to retrieve online data <a name=\"restapi\"></a>\n\nGenerally speaking, the vast amount of data available from the Internet is accessed not through files, but through REST APIs. Fortunately, because a notebook cell can contain whatever code you like, you can use code to send requests and receive JSON data. You can then convert that JSON into whatever format you want to use, such as a pandas dataframe.\n\nThe following example is taken from https://dev.socrata.com/foundry/data.cityofnewyork.us/gkne-dk5s, which provides a dataset for 2014 New York Taxis. The sodapy library is used in the code."
    },
    {
      "metadata": {
        "trusted": true
      },
      "cell_type": "code",
      "source": "!pip install sodapy",
      "execution_count": 3,
      "outputs": [
        {
          "output_type": "stream",
          "text": "Collecting sodapy\n  Downloading https://files.pythonhosted.org/packages/25/63/1915146aa7c453289cdfe181df30d4009ef3518a87b5c873269582c20c7b/sodapy-1.5.0-py2.py3-none-any.whl\nCollecting requests>=2.20.0 (from sodapy)\n  Using cached https://files.pythonhosted.org/packages/ff/17/5cbb026005115301a8fb2f9b0e3e8d32313142fe8b617070e7baad20554f/requests-2.20.1-py2.py3-none-any.whl\nRequirement already satisfied: future>=0.17.1 in /home/nbuser/anaconda3_420/lib/python3.5/site-packages (from sodapy) (0.17.1)\nRequirement already satisfied: urllib3<1.25,>=1.21.1 in /home/nbuser/anaconda3_420/lib/python3.5/site-packages (from requests>=2.20.0->sodapy) (1.24.1)\nRequirement already satisfied: idna<2.8,>=2.5 in /home/nbuser/anaconda3_420/lib/python3.5/site-packages (from requests>=2.20.0->sodapy) (2.7)\nCollecting certifi>=2017.4.17 (from requests>=2.20.0->sodapy)\n  Using cached https://files.pythonhosted.org/packages/56/9d/1d02dd80bc4cd955f98980f28c5ee2200e1209292d5f9e9cc8d030d18655/certifi-2018.10.15-py2.py3-none-any.whl\nCollecting chardet<3.1.0,>=3.0.2 (from requests>=2.20.0->sodapy)\n  Using cached https://files.pythonhosted.org/packages/bc/a9/01ffebfb562e4274b6487b4bb1ddec7ca55ec7510b22e4c51f14098443b8/chardet-3.0.4-py2.py3-none-any.whl\nInstalling collected packages: certifi, chardet, requests, sodapy\n  Found existing installation: requests 2.14.2\n    Uninstalling requests-2.14.2:\n      Successfully uninstalled requests-2.14.2\nSuccessfully installed certifi-2018.10.15 chardet-3.0.4 requests-2.20.1 sodapy-1.5.0\n",
          "name": "stdout"
        }
      ]
    },
    {
      "metadata": {},
      "cell_type": "markdown",
      "source": "The following code cell produces a warning about requests being throttled because you're not using an API key. This warning can be safely ignored."
    },
    {
      "metadata": {
        "trusted": true
      },
      "cell_type": "code",
      "source": "# From https://dev.socrata.com/foundry/data.cityofnewyork.us/gkne-dk5s\n# (select the \"Python pandas\") tab under \"Code Snippets\".\n\nimport pandas\nfrom sodapy import Socrata\n\n# Unauthenticated client only works with public data sets. Note 'None'\n# in place of application token, and no username or password:\nclient = Socrata(\"data.cityofnewyork.us\", None)\n\n# Example authenticated client (needed for non-public datasets):\n# client = Socrata(data.cityofnewyork.us,\n#                  MyAppToken,\n#                  userame=\"user@example.com\",\n#                  password=\"AFakePassword\")\n\n# First 20 results, returned as JSON from API / converted to Python list of\n# dictionaries by sodapy.\nresults = client.get(\"gkne-dk5s\", limit=20)\n\n# Convert to pandas DataFrame\ndataframe_rest1 = pandas.DataFrame.from_records(results)\nprint(dataframe_rest1)",
      "execution_count": 4,
      "outputs": [
        {
          "output_type": "stream",
          "text": "WARNING:root:Requests made without an app_token will be subject to strict throttling limits.\n",
          "name": "stderr"
        },
        {
          "output_type": "stream",
          "text": "           dropoff_datetime    dropoff_latitude    dropoff_longitude  \\\n0   2014-11-18T13:15:00.000  40.760216999999997  -73.958607000000001   \n1   2014-09-26T13:52:00.000  40.734214999999999  -73.999645000000001   \n2   2014-05-22T07:49:33.000  40.741612000000003  -73.987409999999997   \n3   2014-10-27T21:07:18.000           40.781025  -73.979944000000003   \n4   2014-04-18T14:06:36.000  40.777411000000001  -73.986192000000003   \n5   2014-11-18T16:55:51.000            40.74973  -73.991425000000007   \n6   2014-02-12T10:15:41.000           40.741377  -73.985422999999997   \n7   2014-01-01T20:54:21.000           40.659993  -73.802232000000004   \n8   2014-03-20T07:08:00.000  40.750722000000003  -73.989626999999999   \n9   2014-12-14T09:33:06.000  40.768510999999997  -73.981611000000001   \n10  2014-05-14T22:33:08.000  40.783008000000002           -73.948487   \n11  2014-06-01T03:38:08.000  40.767149000000003           -73.996257   \n12  2014-09-03T18:33:53.000  40.732773999999999  -73.979978000000003   \n13  2014-12-12T16:41:37.000           40.785964  -73.952875000000006   \n14  2014-12-19T09:14:00.000  40.773642000000002  -73.870480000000001   \n15  2014-01-20T21:10:00.000  40.715167000000001  -74.043012000000004   \n16  2014-04-07T17:55:37.000  40.768926999999998  -73.962742000000006   \n17  2014-06-07T21:39:18.000  40.730358000000003           -73.993589   \n18  2014-11-19T21:21:00.000           40.693787  -73.999274999999997   \n19  2014-03-12T21:24:06.000  40.762486000000003  -73.990532000000002   \n\n   fare_amount imp_surcharge mta_tax passenger_count payment_type  \\\n0            4             0     0.5               1          CRD   \n1          6.5             0     0.5               1          CRD   \n2            4             0     0.5               1          CRD   \n3            8           0.5     0.5               1          CRD   \n4          6.5             0     0.5               1          CSH   \n5           12             1     0.5               1          CRD   \n6            7             0     0.5               1          CSH   \n7         33.5           0.5     0.5               3          CRD   \n8          6.5             0     0.5               5          CRD   \n9         10.5             0     0.5               1          CRD   \n10        18.5           0.5     0.5               1          CSH   \n11          11           0.5     0.5               1          CRD   \n12         5.5             1     0.5               1          CRD   \n13        12.5             1     0.5               1          CSH   \n14          35             0     0.5               1          CRD   \n15          45             0     0.5               1          CRD   \n16         7.5             1     0.5               1          CSH   \n17          11           0.5     0.5               1          CRD   \n18          22           0.5     0.5               1          UNK   \n19         7.5           0.5     0.5               1          CSH   \n\n            pickup_datetime     pickup_latitude     pickup_longitude  \\\n0   2014-11-18T13:11:00.000  40.764282000000001            -73.95438   \n1   2014-09-26T13:44:00.000  40.725611999999998  -73.996787999999995   \n2   2014-05-22T07:46:42.000  40.740338999999999  -73.994606000000005   \n3   2014-10-27T21:00:10.000  40.759157999999999  -73.981065999999998   \n4   2014-04-18T14:00:25.000  40.786681000000002           -73.972172   \n5   2014-11-18T16:38:13.000  40.755242000000003           -73.972842   \n6   2014-02-12T10:08:52.000  40.758341999999999  -73.972622000000001   \n7   2014-01-01T20:26:57.000  40.674193000000002  -73.975583999999998   \n8   2014-03-20T07:02:00.000  40.747884999999997  -73.973532000000006   \n9   2014-12-14T09:22:00.000  40.781230999999998  -73.952153999999993   \n10  2014-05-14T22:11:20.000           40.744532  -73.991579999999999   \n11  2014-06-01T03:29:14.000  40.729717999999998  -74.010337000000007   \n12  2014-09-03T18:28:12.000  40.738866000000002  -73.987429000000006   \n13  2014-12-12T16:25:39.000  40.763970999999998  -73.982812999999993   \n14  2014-12-19T08:37:00.000  40.743580000000001  -73.992305000000002   \n15  2014-01-20T20:52:00.000  40.749912000000002  -73.991472000000002   \n16  2014-04-07T17:48:21.000  40.785414000000003  -73.953700999999995   \n17  2014-06-07T21:25:02.000  40.752206000000001  -73.993354999999994   \n18  2014-11-19T21:01:00.000  40.752549999999999  -73.978202999999993   \n19  2014-03-12T21:15:54.000  40.752844000000003  -73.993167999999997   \n\n   rate_code store_and_fwd_flag           tip_amount        tolls_amount  \\\n0          1                NaN                    1                   0   \n1          1                NaN                  1.3                   0   \n2          1                  N  0.90000000000000002                   0   \n3          1                  N                  1.5                   0   \n4          1                  N                    0                   0   \n5          1                  N   3.3500000000000001                   0   \n6          1                  N                    0                   0   \n7          1                  N   6.9000000000000004                   0   \n8          1                NaN                    1                   0   \n9          1                  N   2.2000000000000002                   0   \n10         1                  N                    0                   0   \n11         1                  N                    2                   0   \n12         1                  N   1.3999999999999999                   0   \n13         1                  N                    0                   0   \n14         1                NaN                    5  5.3300000000000001   \n15         5                NaN                    4                  11   \n16         1                  N                    0                   0   \n17         1                  N   2.3999999999999999                   0   \n18         1                NaN   2.7000000000000002                   0   \n19         1                  N                    0                   0   \n\n          total_amount        trip_distance vendor_id  \n0                  5.5  0.40999999999999998       VTS  \n1   8.3000000000000007  0.85999999999999999       VTS  \n2   5.4000000000000004                  0.5       CMT  \n3                 10.5                  1.7       CMT  \n4                    7                  1.2       CMT  \n5   16.850000000000001                  1.7       CMT  \n6                  7.5   1.3999999999999999       CMT  \n7   41.399999999999999                   11       CMT  \n8                    8   1.0800000000000001       VTS  \n9   13.199999999999999                  2.5       CMT  \n10                19.5   4.7999999999999998       CMT  \n11                  14   2.7999999999999998       CMT  \n12  8.4000000000000004  0.69999999999999996       CMT  \n13                  14   2.7000000000000002       CMT  \n14  45.829999999999998                  9.5       VTS  \n15                60.5   5.1799999999999997       VTS  \n16                   9                  1.3       CMT  \n17                14.4                    2       CMT  \n18  25.699999999999999   6.9100000000000001       VTS  \n19                 8.5   1.6000000000000001       CMT  \n",
          "name": "stdout"
        }
      ]
    },
    {
      "metadata": {},
      "cell_type": "markdown",
      "source": "A general data request can just use the requests module:"
    },
    {
      "metadata": {
        "trusted": true
      },
      "cell_type": "code",
      "source": "import pandas\nimport requests\n\ndata_url = 'https://data.cityofnewyork.us/resource/gkne-dk5s.json'\n\n# General data request; include other API keys and credentials as needed in the data argument\nresponse = requests.get(data_url, data={\"limit\" : \"20\"})\n\nif response.status_code == 200:\n    dataframe_rest2 = pandas.DataFrame.from_records(response.json())    \n    print(dataframe_rest2)",
      "execution_count": 5,
      "outputs": [
        {
          "output_type": "stream",
          "text": "            dropoff_datetime    dropoff_latitude    dropoff_longitude  \\\n0    2014-11-18T13:15:00.000  40.760216999999997  -73.958607000000001   \n1    2014-09-26T13:52:00.000  40.734214999999999  -73.999645000000001   \n2    2014-05-22T07:49:33.000  40.741612000000003  -73.987409999999997   \n3    2014-10-27T21:07:18.000           40.781025  -73.979944000000003   \n4    2014-04-18T14:06:36.000  40.777411000000001  -73.986192000000003   \n5    2014-11-18T16:55:51.000            40.74973  -73.991425000000007   \n6    2014-02-12T10:15:41.000           40.741377  -73.985422999999997   \n7    2014-01-01T20:54:21.000           40.659993  -73.802232000000004   \n8    2014-03-20T07:08:00.000  40.750722000000003  -73.989626999999999   \n9    2014-12-14T09:33:06.000  40.768510999999997  -73.981611000000001   \n10   2014-05-14T22:33:08.000  40.783008000000002           -73.948487   \n11   2014-06-01T03:38:08.000  40.767149000000003           -73.996257   \n12   2014-09-03T18:33:53.000  40.732773999999999  -73.979978000000003   \n13   2014-12-12T16:41:37.000           40.785964  -73.952875000000006   \n14   2014-12-19T09:14:00.000  40.773642000000002  -73.870480000000001   \n15   2014-01-20T21:10:00.000  40.715167000000001  -74.043012000000004   \n16   2014-04-07T17:55:37.000  40.768926999999998  -73.962742000000006   \n17   2014-06-07T21:39:18.000  40.730358000000003           -73.993589   \n18   2014-11-19T21:21:00.000           40.693787  -73.999274999999997   \n19   2014-03-12T21:24:06.000  40.762486000000003  -73.990532000000002   \n20   2014-10-23T07:42:39.000  40.772131000000002  -73.962115999999995   \n21   2014-02-07T13:01:00.000  40.771672000000002  -73.963537000000002   \n22   2014-03-15T13:46:00.000  40.742572000000003  -73.993020000000001   \n23   2014-11-13T19:12:00.000  40.731127000000001  -73.986009999999993   \n24   2014-07-10T16:47:00.000  40.778185000000001  -73.960712000000001   \n25   2014-02-27T11:48:00.000  40.775590000000001  -73.956249999999997   \n26   2014-11-26T17:50:00.000  40.644972000000003  -73.776426999999998   \n27   2014-08-10T01:36:00.000            40.75788  -73.969049999999996   \n28   2014-08-08T11:12:42.000  40.738796999999998  -73.994727999999995   \n29   2014-01-04T23:25:58.000  40.751609999999999  -73.978229999999996   \n..                       ...                 ...                  ...   \n970  2014-05-23T01:43:27.000           40.654021           -73.976315   \n971  2014-05-15T08:44:38.000  40.704605999999998  -74.008173999999997   \n972  2014-10-08T19:06:06.000  40.780588000000002  -73.959248000000002   \n973  2014-02-24T15:57:00.000  40.727531999999997  -73.977429999999998   \n974  2014-05-03T11:13:00.000  40.756835000000002  -73.982713000000004   \n975  2014-09-28T13:57:00.000  40.761132000000003  -73.969359999999995   \n976  2014-03-07T15:29:00.000  40.747607000000002  -73.990042000000003   \n977  2014-09-22T08:20:22.000           40.772689  -73.964778999999993   \n978  2014-04-22T08:09:00.000  40.760356999999999  -73.982195000000004   \n979  2014-04-18T20:58:52.000  40.721308999999998  -73.993789000000007   \n980  2014-09-21T22:24:00.000  40.729886999999998  -73.989377000000005   \n981  2014-09-15T18:06:00.000  40.764204999999997  -73.969031999999999   \n982  2014-01-27T19:15:35.000  40.741162000000003  -73.981324999999998   \n983  2014-03-24T22:20:00.000  40.767422000000003  -73.867019999999997   \n984  2014-02-07T20:46:00.000  40.750075000000002  -73.991455000000002   \n985  2014-01-07T11:37:24.000  40.764682000000001  -73.978757999999999   \n986  2014-12-31T20:19:00.000  40.751486999999997  -73.976567000000003   \n987  2014-10-05T00:46:00.000  40.702012000000003           -73.928027   \n988  2014-07-24T00:36:00.000  40.737090000000002  -73.997010000000003   \n989  2014-12-12T01:49:00.000  40.724091999999999  -74.003326999999999   \n990  2014-02-11T12:34:37.000  40.778030000000001  -73.960835000000003   \n991  2014-01-02T17:48:17.000  40.756421000000003           -73.990071   \n992  2014-11-17T21:09:00.000  40.758920000000003  -73.989410000000007   \n993  2014-05-21T12:14:41.000  40.709130999999999  -74.006780000000006   \n994  2014-12-28T19:04:08.000           40.777611  -73.959134000000006   \n995  2014-08-10T12:56:31.000  40.764130000000002  -73.976275999999999   \n996  2014-12-29T14:29:00.000  40.789737000000002  -73.952223000000004   \n997  2014-01-31T13:46:23.000  40.746251999999998  -73.991448000000005   \n998  2014-01-08T11:11:38.000                   0                    0   \n999  2014-11-27T14:08:40.000  40.751047999999997  -73.885191000000006   \n\n    fare_amount imp_surcharge mta_tax passenger_count payment_type  \\\n0             4             0     0.5               1          CRD   \n1           6.5             0     0.5               1          CRD   \n2             4             0     0.5               1          CRD   \n3             8           0.5     0.5               1          CRD   \n4           6.5             0     0.5               1          CSH   \n5            12             1     0.5               1          CRD   \n6             7             0     0.5               1          CSH   \n7          33.5           0.5     0.5               3          CRD   \n8           6.5             0     0.5               5          CRD   \n9          10.5             0     0.5               1          CRD   \n10         18.5           0.5     0.5               1          CSH   \n11           11           0.5     0.5               1          CRD   \n12          5.5             1     0.5               1          CRD   \n13         12.5             1     0.5               1          CSH   \n14           35             0     0.5               1          CRD   \n15           45             0     0.5               1          CRD   \n16          7.5             1     0.5               1          CSH   \n17           11           0.5     0.5               1          CRD   \n18           22           0.5     0.5               1          UNK   \n19          7.5           0.5     0.5               1          CSH   \n20          4.5             0     0.5               1          CRD   \n21         12.5             0     0.5               2          CSH   \n22         11.5             0     0.5               2          CSH   \n23         13.5             1     0.5               4          CRD   \n24            6             1     0.5               1          CRD   \n25            6             0     0.5               1          CSH   \n26          9.5             1     0.5               5          CSH   \n27           15           0.5     0.5               5          CRD   \n28            9             0     0.5               1          CRD   \n29          8.5           0.5     0.5               2          CSH   \n..          ...           ...     ...             ...          ...   \n970        23.5           0.5     0.5               2          CRD   \n971          12             0     0.5               1          CSH   \n972        11.5             1     0.5               2          CSH   \n973           7             0     0.5               3          CSH   \n974           6             0     0.5               2          CSH   \n975         6.5             0     0.5               5          CSH   \n976         8.5             0     0.5               1          CRD   \n977           7             0     0.5               2          CRD   \n978         4.5             0     0.5               1          CSH   \n979        14.5           0.5     0.5               1          CSH   \n980        10.5           0.5     0.5               5          CRD   \n981         9.5             1     0.5               1          CSH   \n982         5.5             1     0.5               1          CRD   \n983          30           0.5     0.5               5          CSH   \n984        12.5           0.5     0.5               1          CSH   \n985          52             0     0.5               4          CSH   \n986           4           0.5     0.5               1          CSH   \n987           8           0.5     0.5               5          UNK   \n988         6.5           0.5     0.5               1          CSH   \n989        13.5           0.5     0.5               1          CSH   \n990          12             0     0.5               1          CSH   \n991         4.5             1     0.5               1          CRD   \n992         5.5           0.5     0.5               1          CSH   \n993        19.5             0     0.5               1          CSH   \n994           4             0     0.5               1          CSH   \n995           7             0     0.5               1          CRD   \n996          10             0     0.5               6          CRD   \n997        21.5             0     0.5               1          CRD   \n998        12.5             0     0.5               2          CSH   \n999        15.5             0     0.5               1          CSH   \n\n             pickup_datetime     pickup_latitude     pickup_longitude  \\\n0    2014-11-18T13:11:00.000  40.764282000000001            -73.95438   \n1    2014-09-26T13:44:00.000  40.725611999999998  -73.996787999999995   \n2    2014-05-22T07:46:42.000  40.740338999999999  -73.994606000000005   \n3    2014-10-27T21:00:10.000  40.759157999999999  -73.981065999999998   \n4    2014-04-18T14:00:25.000  40.786681000000002           -73.972172   \n5    2014-11-18T16:38:13.000  40.755242000000003           -73.972842   \n6    2014-02-12T10:08:52.000  40.758341999999999  -73.972622000000001   \n7    2014-01-01T20:26:57.000  40.674193000000002  -73.975583999999998   \n8    2014-03-20T07:02:00.000  40.747884999999997  -73.973532000000006   \n9    2014-12-14T09:22:00.000  40.781230999999998  -73.952153999999993   \n10   2014-05-14T22:11:20.000           40.744532  -73.991579999999999   \n11   2014-06-01T03:29:14.000  40.729717999999998  -74.010337000000007   \n12   2014-09-03T18:28:12.000  40.738866000000002  -73.987429000000006   \n13   2014-12-12T16:25:39.000  40.763970999999998  -73.982812999999993   \n14   2014-12-19T08:37:00.000  40.743580000000001  -73.992305000000002   \n15   2014-01-20T20:52:00.000  40.749912000000002  -73.991472000000002   \n16   2014-04-07T17:48:21.000  40.785414000000003  -73.953700999999995   \n17   2014-06-07T21:25:02.000  40.752206000000001  -73.993354999999994   \n18   2014-11-19T21:01:00.000  40.752549999999999  -73.978202999999993   \n19   2014-03-12T21:15:54.000  40.752844000000003  -73.993167999999997   \n20   2014-10-23T07:39:29.000  40.765438000000003           -73.970067   \n21   2014-02-07T12:44:00.000  40.743895000000002  -73.986046999999999   \n22   2014-03-15T13:30:00.000  40.747100000000003  -73.974222999999995   \n23   2014-11-13T18:52:00.000  40.721344999999999  -74.004737000000006   \n24   2014-07-10T16:42:00.000  40.763824999999997  -73.964821999999998   \n25   2014-02-27T11:41:00.000  40.773564999999998  -73.951963000000006   \n26   2014-11-26T17:44:00.000  40.641601999999999  -73.788314999999997   \n27   2014-08-10T01:22:00.000  40.718710000000002  -73.989130000000003   \n28   2014-08-08T11:01:36.000  40.727474000000001  -73.976401999999993   \n29   2014-01-04T23:16:17.000  40.732737999999998  -73.987791000000001   \n..                       ...                 ...                  ...   \n970  2014-05-23T01:25:03.000  40.730099000000003  -73.992928000000006   \n971  2014-05-15T08:32:25.000           40.687756  -73.986712999999995   \n972  2014-10-08T18:50:32.000  40.757612999999999  -73.960650999999999   \n973  2014-02-24T15:49:00.000  40.738411999999997  -73.980557000000005   \n974  2014-05-03T11:07:00.000  40.745645000000003  -73.993458000000004   \n975  2014-09-28T13:52:00.000  40.773356999999997  -73.954701999999997   \n976  2014-03-07T15:19:00.000  40.764867000000002  -73.980806999999999   \n977  2014-09-22T08:12:54.000  40.769531000000001  -73.980852999999996   \n978  2014-04-22T08:05:00.000  40.756946999999997  -73.989886999999996   \n979  2014-04-18T20:39:56.000  40.756964000000004  -73.970676999999995   \n980  2014-09-21T22:14:00.000           40.756197  -73.963705000000004   \n981  2014-09-15T17:55:00.000  40.772331999999999  -73.949804999999998   \n982  2014-01-27T19:10:34.000  40.740045000000002  -73.994671999999994   \n983  2014-03-24T21:54:00.000  40.767937000000003  -73.982488000000004   \n984  2014-02-07T20:31:00.000  40.764494999999997  -73.957881999999998   \n985  2014-01-07T10:37:27.000           40.646476  -73.785674999999998   \n986  2014-12-31T20:15:00.000  40.752605000000003  -73.969783000000007   \n987  2014-10-05T00:38:00.000           40.714247  -73.949416999999997   \n988  2014-07-24T00:30:00.000  40.745600000000003  -73.999700000000004   \n989  2014-12-12T01:32:00.000  40.756892000000001  -73.990137000000004   \n990  2014-02-11T12:19:33.000           40.753563  -73.985090999999997   \n991  2014-01-02T17:44:28.000  40.760879000000003  -73.983388000000005   \n992  2014-11-17T21:03:00.000  40.760120000000001  -73.987809999999996   \n993  2014-05-21T11:46:30.000  40.752650000000003  -73.990347999999997   \n994  2014-12-28T19:02:19.000  40.784213999999999  -73.954571999999999   \n995  2014-08-10T12:48:14.000  40.758065000000002  -73.963221000000004   \n996  2014-12-29T14:19:00.000  40.776685000000001  -73.975341999999998   \n997  2014-01-31T13:09:58.000  40.755563000000002  -73.972223999999997   \n998  2014-01-08T10:54:06.000                   0                    0   \n999  2014-11-27T13:48:20.000  40.770575000000001  -73.864794000000003   \n\n    rate_code store_and_fwd_flag           tip_amount        tolls_amount  \\\n0           1                NaN                    1                   0   \n1           1                NaN                  1.3                   0   \n2           1                  N  0.90000000000000002                   0   \n3           1                  N                  1.5                   0   \n4           1                  N                    0                   0   \n5           1                  N   3.3500000000000001                   0   \n6           1                  N                    0                   0   \n7           1                  N   6.9000000000000004                   0   \n8           1                NaN                    1                   0   \n9           1                  N   2.2000000000000002                   0   \n10          1                  N                    0                   0   \n11          1                  N                    2                   0   \n12          1                  N   1.3999999999999999                   0   \n13          1                  N                    0                   0   \n14          1                NaN                    5  5.3300000000000001   \n15          5                NaN                    4                  11   \n16          1                  N                    0                   0   \n17          1                  N   2.3999999999999999                   0   \n18          1                NaN   2.7000000000000002                   0   \n19          1                  N                    0                   0   \n20          1                  N                  1.5                   0   \n21          1                NaN                    0                   0   \n22          1                NaN                    0                   0   \n23          1                NaN                    4                   0   \n24          1                NaN                    1                   0   \n25          1                NaN                    0                   0   \n26          1                NaN                    0                   0   \n27          1                NaN   3.1000000000000001                   0   \n28          1                  N                    1                   0   \n29          1                  N                    0                   0   \n..        ...                ...                  ...                 ...   \n970         1                  N   4.9000000000000004                   0   \n971         1                  N                    0                   0   \n972         1                  N                    0                   0   \n973         1                NaN                    0                   0   \n974         1                NaN                    0                   0   \n975         1                NaN                    0                   0   \n976         1                NaN                  0.5                   0   \n977         1                  N                  1.5                   0   \n978         1                NaN                    0                   0   \n979         1                  N                    0                   0   \n980         1                NaN                  1.5                   0   \n981         1                NaN                    0                   0   \n982         1                  N   1.3999999999999999                   0   \n983         1                NaN                    0                   0   \n984         1                NaN                    0                   0   \n985         2                  N                    0  5.3300000000000001   \n986         1                NaN                    0                   0   \n987         1                NaN                    0                   0   \n988         1                NaN                    0                   0   \n989         1                NaN                    0                   0   \n990         1                  N                    0                   0   \n991         1                  N                  1.8                   0   \n992         1                NaN                    0                   0   \n993         1                  N                    0                   0   \n994         1                  N                    0                   0   \n995         1                  N                    2                   0   \n996         1                NaN                    2                   0   \n997         1                  N                  5.5                   0   \n998         1                  N                    0                   0   \n999         1                  N                    0                   0   \n\n           total_amount        trip_distance vendor_id  \n0                   5.5  0.40999999999999998       VTS  \n1    8.3000000000000007  0.85999999999999999       VTS  \n2    5.4000000000000004                  0.5       CMT  \n3                  10.5                  1.7       CMT  \n4                     7                  1.2       CMT  \n5    16.850000000000001                  1.7       CMT  \n6                   7.5   1.3999999999999999       CMT  \n7    41.399999999999999                   11       CMT  \n8                     8   1.0800000000000001       VTS  \n9    13.199999999999999                  2.5       CMT  \n10                 19.5   4.7999999999999998       CMT  \n11                   14   2.7999999999999998       CMT  \n12   8.4000000000000004  0.69999999999999996       CMT  \n13                   14   2.7000000000000002       CMT  \n14   45.829999999999998                  9.5       VTS  \n15                 60.5   5.1799999999999997       VTS  \n16                    9                  1.3       CMT  \n17                 14.4                    2       CMT  \n18   25.699999999999999   6.9100000000000001       VTS  \n19                  8.5   1.6000000000000001       CMT  \n20                  6.5  0.69999999999999996       CMT  \n21                   13   2.3199999999999998       VTS  \n22                   12   1.8500000000000001       VTS  \n23                   19   2.3500000000000001       VTS  \n24                  8.5                 1.26       VTS  \n25                  6.5  0.28999999999999998       VTS  \n26                   11   2.8100000000000001       VTS  \n27   19.100000000000001   4.1699999999999999       VTS  \n28                 10.5                  1.5       CMT  \n29                  9.5                  1.5       CMT  \n..                  ...                  ...       ...  \n970  29.399999999999999   7.7000000000000002       CMT  \n971                12.5   3.1000000000000001       CMT  \n972                  13   2.1000000000000001       CMT  \n973                 7.5   1.1399999999999999       VTS  \n974                 6.5   1.0800000000000001       VTS  \n975                   7   1.3300000000000001       VTS  \n976                 9.5   1.3999999999999999       VTS  \n977                   9                  1.2       CMT  \n978                   5  0.72999999999999998       VTS  \n979                15.5                    3       CMT  \n980                  13   2.7400000000000002       VTS  \n981                  11   1.6200000000000001       VTS  \n982  8.4000000000000004                    1       CMT  \n983                  31   9.7699999999999996       VTS  \n984                13.5   2.8399999999999999       VTS  \n985  57.829999999999998   21.699999999999999       CMT  \n986                   5                  0.5       VTS  \n987                   9                 1.74       VTS  \n988                 7.5                 1.21       VTS  \n989                14.5   3.1099999999999999       VTS  \n990                12.5                  2.5       CMT  \n991  7.7999999999999998                  0.5       CMT  \n992                 6.5  0.69999999999999996       VTS  \n993                  20   3.2999999999999998       CMT  \n994                 4.5                  0.5       CMT  \n995                 9.5  0.80000000000000004       CMT  \n996                12.5   2.1000000000000001       VTS  \n997                27.5                    2       CMT  \n998                  13                  1.8       CMT  \n999                  16   3.3999999999999999       CMT  \n\n[1000 rows x 18 columns]\n",
          "name": "stdout"
        }
      ]
    },
    {
      "metadata": {},
      "cell_type": "markdown",
      "source": "## Query an Azure SQL database  <a name=\"azuresql\"></a>\n\nYou can access SQL Server databases with the assistance of the pyodbc library.\n\nFor this article, follow the instruction in [Use Python to query an Azure SQL database](https://docs.microsoft.com/azure/sql-database/sql-database-connect-query-python) to create a database containing AdventureWorks data. The code below, taken from that article, queries the database using pyodbc.\n\n**IMPORTANT**: To run the code, you must change the placeholders to provide identify your specific SQL Server instance and to provide your credentials."
    },
    {
      "metadata": {
        "trusted": true
      },
      "cell_type": "code",
      "source": "!pip install pyodbc",
      "execution_count": 6,
      "outputs": [
        {
          "output_type": "stream",
          "text": "Requirement already satisfied: pyodbc in /home/nbuser/anaconda3_420/lib/python3.5/site-packages (4.0.17)\r\n",
          "name": "stdout"
        }
      ]
    },
    {
      "metadata": {
        "trusted": true
      },
      "cell_type": "code",
      "source": "import pyodbc\n\n# Uncomment and modify these four variables for your particular instance\n# Follow https://docs.microsoft.com/azure/sql-database/sql-database-connect-query-python to create a suitable database.\n# server = 'your_server.database.windows.net'\n# database = 'your_database'\n# username = 'your_username'\n# password = 'your_password'\n\n\ndriver= '{ODBC Driver 13 for SQL Server}'\ncnxn = pyodbc.connect('DRIVER='+driver+';SERVER='+server+';PORT=1433;DATABASE='+database+';UID='+username+';PWD='+ password)\ncursor = cnxn.cursor()\n\ncursor.execute(\"SELECT TOP 20 pc.Name as CategoryName, p.name as ProductName FROM [SalesLT].[ProductCategory] pc JOIN [SalesLT].[Product] p ON pc.productcategoryid = p.productcategoryid\")\nrow = cursor.fetchone()\n\nwhile row:\n    print (str(row[0]) + \" \" + str(row[1]))\n    row = cursor.fetchone()",
      "execution_count": 7,
      "outputs": [
        {
          "output_type": "stream",
          "text": "Road Frames HL Road Frame - Black, 58\nRoad Frames HL Road Frame - Red, 58\nHelmets Sport-100 Helmet, Red\nHelmets Sport-100 Helmet, Black\nSocks Mountain Bike Socks, M\nSocks Mountain Bike Socks, L\nHelmets Sport-100 Helmet, Blue\nCaps AWC Logo Cap\nJerseys Long-Sleeve Logo Jersey, S\nJerseys Long-Sleeve Logo Jersey, M\nJerseys Long-Sleeve Logo Jersey, L\nJerseys Long-Sleeve Logo Jersey, XL\nRoad Frames HL Road Frame - Red, 62\nRoad Frames HL Road Frame - Red, 44\nRoad Frames HL Road Frame - Red, 48\nRoad Frames HL Road Frame - Red, 52\nRoad Frames HL Road Frame - Red, 56\nRoad Frames LL Road Frame - Black, 58\nRoad Frames LL Road Frame - Black, 60\nRoad Frames LL Road Frame - Black, 62\n",
          "name": "stdout"
        }
      ]
    },
    {
      "metadata": {},
      "cell_type": "markdown",
      "source": "## Use Azure Storage<a name=\"tablestorage\"></a>\n\nAzure Storage provides several different types of non-relational storage, depending on the type of data you have and how you need to access it:\n\n- Table Storage: provides low-cost, high-volume storage for tabular data, such as collected sensor logs, diagnostic logs, and so on.\n- Blob storage: provides file-like storage for any type of data.\n\nAzure CosmosDB is also a form of non-relational storage for JSON documents; see the [Other Azure databases](#otherdbs) section for more information on CosmosDB and a variety of other options.\n\n### Prerequisites\n\n**IMPORTANT**: To run this code, you must create your own Azure Storage account and specify your account name and key in the variables below. For more information, see the following articles:\n\n- [Create a storage account](https://docs.microsoft.com/azure/storage/common/storage-quickstart-create-account?tabs=portal)\n- [Copy your credentials from the Azure portal](https://docs.microsoft.com/azure/storage/blobs/storage-quickstart-blobs-python#copy-your-credentials-from-the-azure-portal). Put simply, on the Azure portal, go to the storage account and navigate to **Settings** > **Access keys**. Then copy either **key1** or **key2** and paste into the applicable code cells in this section.\n- Install the azure-storage library (used for tables and blobs), which is done with the following code cell.\n"
    },
    {
      "metadata": {
        "trusted": true
      },
      "cell_type": "code",
      "source": "!pip install azure-storage",
      "execution_count": 8,
      "outputs": [
        {
          "output_type": "stream",
          "text": "Collecting azure-storage\n\u001b[?25l  Downloading https://files.pythonhosted.org/packages/76/26/482c033f8f3a48d16cf75aad91c3e1256856719f4117fabb4696d33aa5da/azure_storage-0.36.0-py2.py3-none-any.whl (190kB)\n\u001b[K    100% |████████████████████████████████| 194kB 7.9MB/s ta 0:00:01\n\u001b[?25hRequirement already satisfied: azure-nspkg>=2.0.0 in /home/nbuser/anaconda3_420/lib/python3.5/site-packages (from azure-storage) (3.0.2)\nRequirement already satisfied: requests in /home/nbuser/anaconda3_420/lib/python3.5/site-packages (from azure-storage) (2.20.1)\nRequirement already satisfied: cryptography in /home/nbuser/anaconda3_420/lib/python3.5/site-packages (from azure-storage) (2.0.3)\nRequirement already satisfied: azure-common>=1.1.5 in /home/nbuser/anaconda3_420/lib/python3.5/site-packages (from azure-storage) (1.1.16)\nRequirement already satisfied: python-dateutil in /home/nbuser/anaconda3_420/lib/python3.5/site-packages (from azure-storage) (2.7.5)\nRequirement already satisfied: idna<2.8,>=2.5 in /home/nbuser/anaconda3_420/lib/python3.5/site-packages (from requests->azure-storage) (2.7)\nRequirement already satisfied: certifi>=2017.4.17 in /home/nbuser/anaconda3_420/lib/python3.5/site-packages (from requests->azure-storage) (2018.10.15)\nRequirement already satisfied: chardet<3.1.0,>=3.0.2 in /home/nbuser/anaconda3_420/lib/python3.5/site-packages (from requests->azure-storage) (3.0.4)\nRequirement already satisfied: urllib3<1.25,>=1.21.1 in /home/nbuser/anaconda3_420/lib/python3.5/site-packages (from requests->azure-storage) (1.24.1)\nRequirement already satisfied: asn1crypto>=0.21.0 in /home/nbuser/anaconda3_420/lib/python3.5/site-packages (from cryptography->azure-storage) (0.24.0)\nRequirement already satisfied: six>=1.4.1 in /home/nbuser/anaconda3_420/lib/python3.5/site-packages (from cryptography->azure-storage) (1.11.0)\nRequirement already satisfied: cffi>=1.7 in /home/nbuser/anaconda3_420/lib/python3.5/site-packages (from cryptography->azure-storage) (1.7.0)\nRequirement already satisfied: pycparser in /home/nbuser/anaconda3_420/lib/python3.5/site-packages (from cffi>=1.7->cryptography->azure-storage) (2.14)\nInstalling collected packages: azure-storage\nSuccessfully installed azure-storage-0.36.0\n",
          "name": "stdout"
        }
      ]
    },
    {
      "metadata": {},
      "cell_type": "markdown",
      "source": "### Table storage\n\nThe following code creates a table in a specified Azure Storage account, then adds rows, removes rows, and queries data."
    },
    {
      "metadata": {
        "trusted": true
      },
      "cell_type": "code",
      "source": "# Modify these variables with your specific values obtained in the Prerequisites section\nazure_storage_account_name = \"your_storage_account\"\nazure_storage_account_key = \"your_access_key\"\n\nif azure_storage_account_name is None or azure_storage_account_key is None:\n    raise Exception(\"Provide your specific name and key for your Azure Storage account--see the Prerequisites section earlier.\")",
      "execution_count": 11,
      "outputs": []
    },
    {
      "metadata": {
        "trusted": true
      },
      "cell_type": "code",
      "source": "from azure.storage.table import TableService\nimport IPython\n\n# Connect to the table - change the placeholders to your specific names\ntable_service = TableService(azure_storage_account_name, azure_storage_account_key)\n\n# Create a table\ntable_name = 'azurenotebookstesttable'\ntable_service.create_table(table_name)\n\n# Insert entities into the table\nentity = {'PartitionKey': 'testItems', 'RowKey': '0', 'age':1}\ntable_service.insert_entity(table_name, entity)\ntable_service.insert_entity(table_name, {'PartitionKey': 'testItems', 'RowKey': '10', 'age':2, 'eyecolor':'blue'})\n\n# Query the table\nqueried_entities = table_service.query_entities(table_name, filter=\"PartitionKey eq 'testItems'\")\nprint('=== Queried rows after inserts ===')\nIPython.display.display_pretty([i for i in queried_entities])\n\n# Delete an entity by using its partition and row key.\ntable_service.delete_entity(table_name, 'testItems', '0')\n                                         \n# Query again to show that the entity was removed\nqueried_entities = table_service.query_entities(table_name, filter=\"PartitionKey eq 'testItems'\")\nprint('=== Queried rows after delete ===')\nIPython.display.display_pretty([i for i in queried_entities])\n\n# Clean up resources\ntable_service.delete_table('azurenotebookstesttable')",
      "execution_count": 12,
      "outputs": [
        {
          "output_type": "stream",
          "text": "=== Queried rows after inserts ===\n",
          "name": "stdout"
        },
        {
          "output_type": "display_data",
          "data": {
            "text/plain": "[{'PartitionKey': 'testItems',\n  'RowKey': '0',\n  'Timestamp': datetime.datetime(2018, 11, 27, 16, 4, 55, 866146, tzinfo=tzlocal()),\n  'age': 1,\n  'etag': 'W/\"datetime\\'2018-11-27T16%3A04%3A55.866146Z\\'\"'},\n {'PartitionKey': 'testItems',\n  'RowKey': '10',\n  'Timestamp': datetime.datetime(2018, 11, 27, 16, 4, 56, 53278, tzinfo=tzlocal()),\n  'age': 2,\n  'etag': 'W/\"datetime\\'2018-11-27T16%3A04%3A56.0532785Z\\'\"',\n  'eyecolor': 'blue'}]"
          },
          "metadata": {}
        },
        {
          "output_type": "stream",
          "text": "=== Queried rows after delete ===\n",
          "name": "stdout"
        },
        {
          "output_type": "display_data",
          "data": {
            "text/plain": "[{'PartitionKey': 'testItems',\n  'RowKey': '10',\n  'Timestamp': datetime.datetime(2018, 11, 27, 16, 4, 56, 53278, tzinfo=tzlocal()),\n  'age': 2,\n  'etag': 'W/\"datetime\\'2018-11-27T16%3A04%3A56.0532785Z\\'\"',\n  'eyecolor': 'blue'}]"
          },
          "metadata": {}
        },
        {
          "output_type": "execute_result",
          "execution_count": 12,
          "data": {
            "text/plain": "True"
          },
          "metadata": {}
        }
      ]
    },
    {
      "metadata": {},
      "cell_type": "markdown",
      "source": "## Access Azure Blobs <a name=\"blobs\"></a>\n\nBlobs store file-like data, which can be private or public. \n\nThe code below demonstrates private keys first. It creates a container, then creates a blob, then reads that blob.\n\nThe [shared access](#sharedaccess) section then demonstrates a shared access signature for public read-only access.\n\nYou can also put content into blobs using [AzCopy](https://azure.microsoft.com/en-us/documentation/articles/storage-use-azcopy/)."
    },
    {
      "metadata": {
        "trusted": true
      },
      "cell_type": "code",
      "source": "# Modify these variables with your specific values obtained in the Prerequisites section\nazure_storage_account_name = \"your_storage_account\"\nazure_storage_account_key = \"your_access_key\"\n\nif azure_storage_account_name is None or azure_storage_account_key is None:\n    raise Exception(\"Provide your specific name and key for your Azure Storage account--see the Prerequisites section earlier.\")",
      "execution_count": 14,
      "outputs": []
    },
    {
      "metadata": {
        "trusted": true
      },
      "cell_type": "code",
      "source": "from azure.storage.blob import BlockBlobService\n\n# Connect to our blob via the BlobService\nblob_service = BlockBlobService(azure_storage_account_name, azure_storage_account_key)\n\n# Create a container\nblob_service.create_container('azure-notebooks-data')\n\n# Insider a container, create other containers or blobs\nblob_service.create_blob_from_text('azure-notebooks-data', 'sample.txt', 'Hello, Blobs! This is content for the sample.txt file.')\n\n# You can list containers and blobs\ncontainers = blob_service.list_containers()\nblobs = blob_service.list_blobs('azure-notebooks-data')\n\n# Read a blob from and get the text; the copy is stored in the Azure Notebooks project\nblob_service.get_blob_to_path('azure-notebooks-data', 'sample.txt', 'sample.txt')\n\n# Clean up the created blob and container\nblob_service.delete_blob('azure-notebooks-data', 'sample.txt')\nblob_service.delete_container('azure-notebooks-data')",
      "execution_count": 15,
      "outputs": [
        {
          "output_type": "execute_result",
          "execution_count": 15,
          "data": {
            "text/plain": "True"
          },
          "metadata": {}
        }
      ]
    },
    {
      "metadata": {},
      "cell_type": "markdown",
      "source": "Display the contents of the sample blob file:"
    },
    {
      "metadata": {
        "trusted": true
      },
      "cell_type": "code",
      "source": "!cat sample.txt",
      "execution_count": 16,
      "outputs": [
        {
          "output_type": "stream",
          "text": "Hello, Blobs! This is content for the sample.txt file.",
          "name": "stdout"
        }
      ]
    },
    {
      "metadata": {},
      "cell_type": "markdown",
      "source": "## Provide public read-only access to Azure Storage through shared access signatures <a name=\"sharedaccess\"></a>\n\nSometimes you want to share data from Azure Storage without providing editing capabilities. Shared Access Signatures allow you to share your data and provide whatever level of control you want to the receiver.\n\nThe code below creates a shared access signature with read permissions for a table (it also works with blobs). The code then demonstrates the ability to read but not write. Additional permissions are also necessary to query."
    },
    {
      "metadata": {
        "trusted": true
      },
      "cell_type": "code",
      "source": "# Modify these variables with your specific values obtained in the Prerequisites section\nazure_storage_account_name = \"your_storage_account\"\nazure_storage_account_key = \"your_access_key\"\n\nif azure_storage_account_name is None or azure_storage_account_key is None:\n    raise Exception(\"Provide your specific name and key for your Azure Storage account--see the Prerequisites section earlier.\")",
      "execution_count": 17,
      "outputs": []
    },
    {
      "metadata": {
        "trusted": true
      },
      "cell_type": "code",
      "source": "# Create a container and a blob in that container\nfrom azure.storage.blob import BlockBlobService\n\n# Connect to our blob via the BlobService\nblob_service = BlockBlobService(azure_storage_account_name, azure_storage_account_key)\n\n# Create a container\nblob_service.create_container('azure-notebooks-data')\n\n# Insider a container, create other containers or blobs\nblob_service.create_blob_from_text('azure-notebooks-data', 'sample.txt', 'Hello, Blobs! This is content for the sample.txt file.')\n",
      "execution_count": 19,
      "outputs": [
        {
          "output_type": "execute_result",
          "execution_count": 19,
          "data": {
            "text/plain": "<azure.storage.blob.models.ResourceProperties at 0x7f54de939e48>"
          },
          "metadata": {}
        }
      ]
    },
    {
      "metadata": {
        "trusted": true
      },
      "cell_type": "code",
      "source": "# Create a shared access signature\nfrom azure.storage.blob.models import BlobPermissions\nfrom datetime import datetime, timedelta\n\nsas_token = blob_service.generate_blob_shared_access_signature(\n    'azure-notebooks-data',\n    'sample.txt',\n    BlobPermissions.READ,\n    datetime.utcnow() + timedelta(hours=1)\n)\n\nprint(sas_token)",
      "execution_count": 20,
      "outputs": [
        {
          "output_type": "stream",
          "text": "sr=b&se=2018-11-27T17%3A05%3A48Z&sv=2017-04-17&sp=r&sig=yK0jkCmRIanitFE%2BtYtzvAXES0j/oJrfU1S7q2hTNho%3D\n",
          "name": "stdout"
        }
      ]
    },
    {
      "metadata": {
        "trusted": true
      },
      "cell_type": "code",
      "source": "# Create a service and use the shared access signature\nsas_blob_service = BlockBlobService(account_name=azure_storage_account_name, sas_token=sas_token, )\n\nsas_blob_service.get_blob_to_text('azure-notebooks-data', 'sample.txt').content",
      "execution_count": 21,
      "outputs": [
        {
          "output_type": "execute_result",
          "execution_count": 21,
          "data": {
            "text/plain": "'Hello, Blobs! This is content for the sample.txt file.'"
          },
          "metadata": {}
        }
      ]
    },
    {
      "metadata": {
        "trusted": true
      },
      "cell_type": "code",
      "source": "# Clean up the created blob and container\nblob_service.delete_blob('azure-notebooks-data', 'sample.txt')\nblob_service.delete_container('azure-notebooks-data')",
      "execution_count": 22,
      "outputs": [
        {
          "output_type": "execute_result",
          "execution_count": 22,
          "data": {
            "text/plain": "True"
          },
          "metadata": {}
        }
      ]
    },
    {
      "metadata": {},
      "cell_type": "markdown",
      "source": "## Query other Azure databases  <a name=\"otherdbs\"></a>\n\nAzure provides a number of other database types that you can use. The articles below provide guidance for accessing those databases from Python:\n\n- Azure Cosmos DB (fully-indexed NoSQL store for JSON documents):\n  - [Build a SQL API app with Python](https://docs.microsoft.com/azure/cosmos-db/create-sql-api-python)\n  - [Build a Flask app with the MongoDB API](https://docs.microsoft.com/azure/cosmos-db/create-mongodb-flask)\n  - [Create a graph database using Python and the Gremlin API](https://docs.microsoft.com/azure/cosmos-db/create-graph-python)\n  - [Build a Cassandra app with Python and Azure Cosmos DB](https://docs.microsoft.com/azure/cosmos-db/create-cassandra-python)\n  - [Build a Table API app with Python and Azure Cosmos DB](https://docs.microsoft.com/azure/cosmos-db/create-table-python)\n- [Azure Database for PostgreSQL: Use Python to connect and query data](https://docs.microsoft.com/azure/postgresql/connect-python)\n- [Quickstart: Use Azure Redis Cache with Python](https://docs.microsoft.com/azure/redis-cache/cache-python-get-started)\n- [Azure Database for MySQL: Use Python to connect and query data](https://docs.microsoft.com/azure/mysql/connect-python)\n- [Azure Data Factory](https://azure.microsoft.com/en-us/services/data-factory/)\n  - [Copy Wizard for Azure Data Factory](https://azure.microsoft.com/en-us/updates/code-free-copy-wizard-for-azure-data-factory/)\n\nNote that for CosmosDB, you can use the [azure-cosmosdb-table](https://pypi.org/project/azure-cosmosdb-table/) library (`!pip install azure-cosmosdb-table`)."
    }
  ],
  "metadata": {
    "kernelspec": {
      "name": "python3",
      "display_name": "Python 3",
      "language": "python"
    },
    "language_info": {
      "mimetype": "text/x-python",
      "nbconvert_exporter": "python",
      "name": "python",
      "pygments_lexer": "ipython3",
      "version": "3.5.4",
      "file_extension": ".py",
      "codemirror_mode": {
        "version": 3,
        "name": "ipython"
      }
    }
  },
  "nbformat": 4,
  "nbformat_minor": 1
}
