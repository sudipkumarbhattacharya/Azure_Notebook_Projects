{
  "cells": [
    {
      "metadata": {},
      "cell_type": "markdown",
      "source": "# Evaluating Multiple Models in a Python 2 Notebook\n\n##  Introduction\n\nThe purpose of this example is to compare the performance of machine learning models within a Jupyter notebook. We will use the classic 1974 *Motor Trend* car road tests (`mtcars`) dataset to fit and evaluate three models:\n1. A linear model using all variables\n1. A linear model after variable selection\n1. A Gradient Boosting Machine (GBM) model \n\nThis is a lightly-modified version of a [notebook](https://gallery.cortanaintelligence.com/Notebook/Evaluating-Multiple-Models-6) originally created by a Microsoft employee for distribution on the [Cortana Intelligence Gallery](https://gallery.cortanaintelligence.com/). [Python 3 and R versions](https://notebooks.azure.com/library/eSJDgAFMXAY) of this notebook are also available on Azure Notebooks.\n\n## Outline\n\n- [Introduction](#Introduction)\n- [Prepare Data](#Prepare-Data)\n- [Fit Models](#Fit-Models)\n   - [Linear Model](#Linear-Model)\n   - [Linear Model with Feature Selection](#Linear-Model-with-Feature-Selection)\n   - [Gradient Boosting Machine Regression Model](#Gradient-Boosting-Machine-Regression-Model)\n- [Conclusion](#Conclusion)"
    },
    {
      "metadata": {},
      "cell_type": "markdown",
      "source": "## Prepare Data\n\nWe'll start by loading the `mtcars` sample dataset and displaying its description:"
    },
    {
      "metadata": {
        "scrolled": true,
        "trusted": false
      },
      "cell_type": "code",
      "source": "!pip install pydataset --disable-pip-version-check -q # install a Python package containing the dataset\nimport pydataset\nfrom pydataset import data\ndf = data('mtcars')\ndata('mtcars', show_doc=True)",
      "execution_count": 4,
      "outputs": [
        {
          "name": "stdout",
          "output_type": "stream",
          "text": "mtcars\n\nPyDataset Documentation (adopted from R Documentation. The displayed examples are in R)\n\n## Motor Trend Car Road Tests\n\n### Description\n\nThe data was extracted from the 1974 _Motor Trend_ US magazine, and comprises\nfuel consumption and 10 aspects of automobile design and performance for 32\nautomobiles (1973-74 models).\n\n### Usage\n\n    \n    \n    mtcars\n\n### Format\n\nA data frame with 32 observations on 11 variables.\n\n[, 1]\n\nmpg\n\nMiles/(US) gallon\n\n[, 2]\n\ncyl\n\nNumber of cylinders\n\n[, 3]\n\ndisp\n\nDisplacement (cu.in.)\n\n[, 4]\n\nhp\n\nGross horsepower\n\n[, 5]\n\ndrat\n\nRear axle ratio\n\n[, 6]\n\nwt\n\nWeight (lb/1000)\n\n[, 7]\n\nqsec\n\n1/4 mile time\n\n[, 8]\n\nvs\n\nV/S\n\n[, 9]\n\nam\n\nTransmission (0 = automatic, 1 = manual)\n\n[,10]\n\ngear\n\nNumber of forward gears\n\n[,11]\n\ncarb\n\nNumber of carburetors\n\n### Source\n\nHenderson and Velleman (1981), Building multiple regression models\ninteractively. _Biometrics_, **37**, 391-411\\.\n\n### Examples\n\n    \n    \n    require(graphics)\n    pairs(mtcars, main = \"mtcars data\")\n    coplot(mpg ~ disp | as.factor(cyl), data = mtcars,\n           panel = panel.smooth, rows = 1)\n    \n\n\n"
        }
      ]
    },
    {
      "metadata": {},
      "cell_type": "markdown",
      "source": "We can also quickly examine the distribution of values and first few rows of the dataset:"
    },
    {
      "metadata": {
        "trusted": false
      },
      "cell_type": "code",
      "source": "df.describe()",
      "execution_count": 5,
      "outputs": [
        {
          "data": {
            "text/html": "<div>\n<table border=\"1\" class=\"dataframe\">\n  <thead>\n    <tr style=\"text-align: right;\">\n      <th></th>\n      <th>mpg</th>\n      <th>cyl</th>\n      <th>disp</th>\n      <th>hp</th>\n      <th>drat</th>\n      <th>wt</th>\n      <th>qsec</th>\n      <th>vs</th>\n      <th>am</th>\n      <th>gear</th>\n      <th>carb</th>\n    </tr>\n  </thead>\n  <tbody>\n    <tr>\n      <th>count</th>\n      <td>32.000000</td>\n      <td>32.000000</td>\n      <td>32.000000</td>\n      <td>32.000000</td>\n      <td>32.000000</td>\n      <td>32.000000</td>\n      <td>32.000000</td>\n      <td>32.000000</td>\n      <td>32.000000</td>\n      <td>32.000000</td>\n      <td>32.0000</td>\n    </tr>\n    <tr>\n      <th>mean</th>\n      <td>20.090625</td>\n      <td>6.187500</td>\n      <td>230.721875</td>\n      <td>146.687500</td>\n      <td>3.596563</td>\n      <td>3.217250</td>\n      <td>17.848750</td>\n      <td>0.437500</td>\n      <td>0.406250</td>\n      <td>3.687500</td>\n      <td>2.8125</td>\n    </tr>\n    <tr>\n      <th>std</th>\n      <td>6.026948</td>\n      <td>1.785922</td>\n      <td>123.938694</td>\n      <td>68.562868</td>\n      <td>0.534679</td>\n      <td>0.978457</td>\n      <td>1.786943</td>\n      <td>0.504016</td>\n      <td>0.498991</td>\n      <td>0.737804</td>\n      <td>1.6152</td>\n    </tr>\n    <tr>\n      <th>min</th>\n      <td>10.400000</td>\n      <td>4.000000</td>\n      <td>71.100000</td>\n      <td>52.000000</td>\n      <td>2.760000</td>\n      <td>1.513000</td>\n      <td>14.500000</td>\n      <td>0.000000</td>\n      <td>0.000000</td>\n      <td>3.000000</td>\n      <td>1.0000</td>\n    </tr>\n    <tr>\n      <th>25%</th>\n      <td>15.425000</td>\n      <td>4.000000</td>\n      <td>120.825000</td>\n      <td>96.500000</td>\n      <td>3.080000</td>\n      <td>2.581250</td>\n      <td>16.892500</td>\n      <td>0.000000</td>\n      <td>0.000000</td>\n      <td>3.000000</td>\n      <td>2.0000</td>\n    </tr>\n    <tr>\n      <th>50%</th>\n      <td>19.200000</td>\n      <td>6.000000</td>\n      <td>196.300000</td>\n      <td>123.000000</td>\n      <td>3.695000</td>\n      <td>3.325000</td>\n      <td>17.710000</td>\n      <td>0.000000</td>\n      <td>0.000000</td>\n      <td>4.000000</td>\n      <td>2.0000</td>\n    </tr>\n    <tr>\n      <th>75%</th>\n      <td>22.800000</td>\n      <td>8.000000</td>\n      <td>326.000000</td>\n      <td>180.000000</td>\n      <td>3.920000</td>\n      <td>3.610000</td>\n      <td>18.900000</td>\n      <td>1.000000</td>\n      <td>1.000000</td>\n      <td>4.000000</td>\n      <td>4.0000</td>\n    </tr>\n    <tr>\n      <th>max</th>\n      <td>33.900000</td>\n      <td>8.000000</td>\n      <td>472.000000</td>\n      <td>335.000000</td>\n      <td>4.930000</td>\n      <td>5.424000</td>\n      <td>22.900000</td>\n      <td>1.000000</td>\n      <td>1.000000</td>\n      <td>5.000000</td>\n      <td>8.0000</td>\n    </tr>\n  </tbody>\n</table>\n</div>",
            "text/plain": "             mpg        cyl        disp          hp       drat         wt  \\\ncount  32.000000  32.000000   32.000000   32.000000  32.000000  32.000000   \nmean   20.090625   6.187500  230.721875  146.687500   3.596563   3.217250   \nstd     6.026948   1.785922  123.938694   68.562868   0.534679   0.978457   \nmin    10.400000   4.000000   71.100000   52.000000   2.760000   1.513000   \n25%    15.425000   4.000000  120.825000   96.500000   3.080000   2.581250   \n50%    19.200000   6.000000  196.300000  123.000000   3.695000   3.325000   \n75%    22.800000   8.000000  326.000000  180.000000   3.920000   3.610000   \nmax    33.900000   8.000000  472.000000  335.000000   4.930000   5.424000   \n\n            qsec         vs         am       gear     carb  \ncount  32.000000  32.000000  32.000000  32.000000  32.0000  \nmean   17.848750   0.437500   0.406250   3.687500   2.8125  \nstd     1.786943   0.504016   0.498991   0.737804   1.6152  \nmin    14.500000   0.000000   0.000000   3.000000   1.0000  \n25%    16.892500   0.000000   0.000000   3.000000   2.0000  \n50%    17.710000   0.000000   0.000000   4.000000   2.0000  \n75%    18.900000   1.000000   1.000000   4.000000   4.0000  \nmax    22.900000   1.000000   1.000000   5.000000   8.0000  "
          },
          "execution_count": 5,
          "metadata": {},
          "output_type": "execute_result"
        }
      ]
    },
    {
      "metadata": {
        "scrolled": true,
        "trusted": false
      },
      "cell_type": "code",
      "source": "df.head()",
      "execution_count": 6,
      "outputs": [
        {
          "data": {
            "text/html": "<div>\n<table border=\"1\" class=\"dataframe\">\n  <thead>\n    <tr style=\"text-align: right;\">\n      <th></th>\n      <th>mpg</th>\n      <th>cyl</th>\n      <th>disp</th>\n      <th>hp</th>\n      <th>drat</th>\n      <th>wt</th>\n      <th>qsec</th>\n      <th>vs</th>\n      <th>am</th>\n      <th>gear</th>\n      <th>carb</th>\n    </tr>\n  </thead>\n  <tbody>\n    <tr>\n      <th>Mazda RX4</th>\n      <td>21.0</td>\n      <td>6</td>\n      <td>160.0</td>\n      <td>110</td>\n      <td>3.90</td>\n      <td>2.620</td>\n      <td>16.46</td>\n      <td>0</td>\n      <td>1</td>\n      <td>4</td>\n      <td>4</td>\n    </tr>\n    <tr>\n      <th>Mazda RX4 Wag</th>\n      <td>21.0</td>\n      <td>6</td>\n      <td>160.0</td>\n      <td>110</td>\n      <td>3.90</td>\n      <td>2.875</td>\n      <td>17.02</td>\n      <td>0</td>\n      <td>1</td>\n      <td>4</td>\n      <td>4</td>\n    </tr>\n    <tr>\n      <th>Datsun 710</th>\n      <td>22.8</td>\n      <td>4</td>\n      <td>108.0</td>\n      <td>93</td>\n      <td>3.85</td>\n      <td>2.320</td>\n      <td>18.61</td>\n      <td>1</td>\n      <td>1</td>\n      <td>4</td>\n      <td>1</td>\n    </tr>\n    <tr>\n      <th>Hornet 4 Drive</th>\n      <td>21.4</td>\n      <td>6</td>\n      <td>258.0</td>\n      <td>110</td>\n      <td>3.08</td>\n      <td>3.215</td>\n      <td>19.44</td>\n      <td>1</td>\n      <td>0</td>\n      <td>3</td>\n      <td>1</td>\n    </tr>\n    <tr>\n      <th>Hornet Sportabout</th>\n      <td>18.7</td>\n      <td>8</td>\n      <td>360.0</td>\n      <td>175</td>\n      <td>3.15</td>\n      <td>3.440</td>\n      <td>17.02</td>\n      <td>0</td>\n      <td>0</td>\n      <td>3</td>\n      <td>2</td>\n    </tr>\n  </tbody>\n</table>\n</div>",
            "text/plain": "                    mpg  cyl   disp   hp  drat     wt   qsec  vs  am  gear  \\\nMazda RX4          21.0    6  160.0  110  3.90  2.620  16.46   0   1     4   \nMazda RX4 Wag      21.0    6  160.0  110  3.90  2.875  17.02   0   1     4   \nDatsun 710         22.8    4  108.0   93  3.85  2.320  18.61   1   1     4   \nHornet 4 Drive     21.4    6  258.0  110  3.08  3.215  19.44   1   0     3   \nHornet Sportabout  18.7    8  360.0  175  3.15  3.440  17.02   0   0     3   \n\n                   carb  \nMazda RX4             4  \nMazda RX4 Wag         4  \nDatsun 710            1  \nHornet 4 Drive        1  \nHornet Sportabout     2  "
          },
          "execution_count": 6,
          "metadata": {},
          "output_type": "execute_result"
        }
      ]
    },
    {
      "metadata": {},
      "cell_type": "markdown",
      "source": "The goal for the machine learning models in this tutorial will be to predict each car's gas mileage (`mpg`) from the car's other features.\n\nWe will split the records into training and test datasets: each model will be fitted using the training data, and evaluated using the withheld test data."
    },
    {
      "metadata": {
        "trusted": false
      },
      "cell_type": "code",
      "source": "from sklearn.cross_validation import train_test_split\n\n# split the dataset into features available for prediction (X) and value to predict (y)\ny = df['mpg'].values\nX = df.drop('mpg', 1).values\nfeature_names = df.drop('mpg', 1).columns\n\n# save 30% of the records for the test set\nX_train, X_test, y_train, y_test = train_test_split(X, y, test_size=0.3, random_state=123)\nX_train.shape",
      "execution_count": 7,
      "outputs": [
        {
          "data": {
            "text/plain": "(22, 10)"
          },
          "execution_count": 7,
          "metadata": {},
          "output_type": "execute_result"
        }
      ]
    },
    {
      "metadata": {},
      "cell_type": "markdown",
      "source": "As you can see from the description above, the number of predictive features available in this dataset (10) is comparable to the number of records (22). Such conditions tend to produce overfitted models that give exceptional predictions on their own training data, but poor predictions on the withheld test data. We will see an example of an overfitted model below."
    },
    {
      "metadata": {},
      "cell_type": "markdown",
      "source": "## Fit Models\n### Linear Model\nThe following lines of code fit a linear model (without regularization) using all of the original features:"
    },
    {
      "metadata": {
        "scrolled": true,
        "trusted": false
      },
      "cell_type": "code",
      "source": "from sklearn.linear_model import LinearRegression\n\nlm = LinearRegression()\nlm.fit(X_train, y_train)",
      "execution_count": 8,
      "outputs": [
        {
          "data": {
            "text/plain": "LinearRegression(copy_X=True, fit_intercept=True, n_jobs=1, normalize=False)"
          },
          "execution_count": 8,
          "metadata": {},
          "output_type": "execute_result"
        }
      ]
    },
    {
      "metadata": {},
      "cell_type": "markdown",
      "source": "Below, we print the R-squared value for the true vs. predicted `mpg` values in the *training* set. We also show the fitted coefficients for different features."
    },
    {
      "metadata": {
        "trusted": false
      },
      "cell_type": "code",
      "source": "import pandas as pd\nfrom sklearn.metrics import r2_score\n\n# print R^2 for the training set\nprint('The R-squared value for the training set is: {:0.4f}'.format(r2_score(y_train, lm.predict(X_train))))\n\n# print intercept and coefficients\nparam_df = pd.DataFrame({\"Coefficient\": [lm.intercept_] + list(lm.coef_),\n                         \"Feature\": ['intercept'] + list(feature_names)})\nparam_df[['Feature', 'Coefficient']]",
      "execution_count": 9,
      "outputs": [
        {
          "name": "stdout",
          "output_type": "stream",
          "text": "The R-squared value for the training set is: 0.8932\n"
        },
        {
          "data": {
            "text/html": "<div>\n<table border=\"1\" class=\"dataframe\">\n  <thead>\n    <tr style=\"text-align: right;\">\n      <th></th>\n      <th>Feature</th>\n      <th>Coefficient</th>\n    </tr>\n  </thead>\n  <tbody>\n    <tr>\n      <th>0</th>\n      <td>intercept</td>\n      <td>-26.404570</td>\n    </tr>\n    <tr>\n      <th>1</th>\n      <td>cyl</td>\n      <td>0.694624</td>\n    </tr>\n    <tr>\n      <th>2</th>\n      <td>disp</td>\n      <td>0.021889</td>\n    </tr>\n    <tr>\n      <th>3</th>\n      <td>hp</td>\n      <td>-0.013067</td>\n    </tr>\n    <tr>\n      <th>4</th>\n      <td>drat</td>\n      <td>1.363191</td>\n    </tr>\n    <tr>\n      <th>5</th>\n      <td>wt</td>\n      <td>-5.000644</td>\n    </tr>\n    <tr>\n      <th>6</th>\n      <td>qsec</td>\n      <td>2.633275</td>\n    </tr>\n    <tr>\n      <th>7</th>\n      <td>vs</td>\n      <td>0.206116</td>\n    </tr>\n    <tr>\n      <th>8</th>\n      <td>am</td>\n      <td>5.219608</td>\n    </tr>\n    <tr>\n      <th>9</th>\n      <td>gear</td>\n      <td>-0.096164</td>\n    </tr>\n    <tr>\n      <th>10</th>\n      <td>carb</td>\n      <td>0.421154</td>\n    </tr>\n  </tbody>\n</table>\n</div>",
            "text/plain": "      Feature  Coefficient\n0   intercept   -26.404570\n1         cyl     0.694624\n2        disp     0.021889\n3          hp    -0.013067\n4        drat     1.363191\n5          wt    -5.000644\n6        qsec     2.633275\n7          vs     0.206116\n8          am     5.219608\n9        gear    -0.096164\n10       carb     0.421154"
          },
          "execution_count": 9,
          "metadata": {},
          "output_type": "execute_result"
        }
      ]
    },
    {
      "metadata": {},
      "cell_type": "markdown",
      "source": "Notice that the model performs very well on the training data to which it was fitted. (Predictions of the model account for 89% of the variance in `mpg` values.) Some of the feature coefficients may reflect our intuition: for example, heavy cars tend to have worse gas mileage ($\\beta_{\\textrm{wt}} = -5.0$), and cars with manual transmissions tend to have better gas mileage ($\\beta_{\\textrm{am}} = 5.2$).\n\nNow, let's check the model's performance on the test dataset:"
    },
    {
      "metadata": {
        "trusted": false
      },
      "cell_type": "code",
      "source": "import numpy as np\n\npredicted = lm.predict(X_test)\n\nr_squared = r2_score(y_test, predicted)\nmae = np.mean(abs(predicted - y_test))\nrmse = np.sqrt(np.mean((predicted - y_test)**2))\nrae = np.mean(abs(predicted - y_test)) / np.mean(abs(y_test - np.mean(y_test)))\nrse = np.mean((predicted - y_test)**2) / np.mean((y_test - np.mean(y_test))**2)\n\n# Create a data frame for storing results from each model\nsummary_df = pd.DataFrame(index = ['R-squared', 'Mean Absolute Error', 'Root Mean Squared Error',\n                                   'Relative Absolute Error', 'Relative Squared Error'])\nsummary_df['Linear Regression, all variables'] = [r_squared, mae, rmse, rae, rse]\nsummary_df",
      "execution_count": 10,
      "outputs": [
        {
          "data": {
            "text/html": "<div>\n<table border=\"1\" class=\"dataframe\">\n  <thead>\n    <tr style=\"text-align: right;\">\n      <th></th>\n      <th>Linear Regression, all variables</th>\n    </tr>\n  </thead>\n  <tbody>\n    <tr>\n      <th>R-squared</th>\n      <td>0.534771</td>\n    </tr>\n    <tr>\n      <th>Mean Absolute Error</th>\n      <td>3.064283</td>\n    </tr>\n    <tr>\n      <th>Root Mean Squared Error</th>\n      <td>3.472463</td>\n    </tr>\n    <tr>\n      <th>Relative Absolute Error</th>\n      <td>0.690154</td>\n    </tr>\n    <tr>\n      <th>Relative Squared Error</th>\n      <td>0.465229</td>\n    </tr>\n  </tbody>\n</table>\n</div>",
            "text/plain": "                         Linear Regression, all variables\nR-squared                                        0.534771\nMean Absolute Error                              3.064283\nRoot Mean Squared Error                          3.472463\nRelative Absolute Error                          0.690154\nRelative Squared Error                           0.465229"
          },
          "execution_count": 10,
          "metadata": {},
          "output_type": "execute_result"
        }
      ]
    },
    {
      "metadata": {},
      "cell_type": "markdown",
      "source": "Notice that the R-squared value for true vs. predicted `mpg` of the test set is much lower than it was for the training set. (Granted, our test set is not very large, so some fluctuation is expected.) This is indicative of model overfitting."
    },
    {
      "metadata": {},
      "cell_type": "markdown",
      "source": "### Linear Model with Feature Selection\n\nOne way to reduce overfitting is to remove some predictive features from the model. Ideally we would be able to examine many or all possible subsets of features and select the subset of features that gives the best performance, but that is usually impractical due to the large number of possible subsets. A common alternative is to start from the full list of features and recursively remove one that seems to be contributing least to the model's performance (i.e., the feature whose removal has the least negative/most positive effect on model performance). This process is called recursive feature elimination (RFE).\n\nRFE fits many models and compares their performance: it therefore requires both training and testing data. We would like to reserve the test dataset we created earlier to fairly compare all models, so RFE will need to set aside some records in the `X_train`/`y_train` dataset for its own round of testing. Fortunately, this is easily done with `scikit-learn`'s cross-validation functionality:"
    },
    {
      "metadata": {
        "scrolled": false,
        "trusted": false
      },
      "cell_type": "code",
      "source": "%matplotlib inline\n\nimport matplotlib.pyplot as plt\nfrom sklearn.preprocessing import StandardScaler\nfrom sklearn.feature_selection import RFECV\nimport seaborn as sns\n\n# scale each feature to zero mean and unit variance\nscaler = StandardScaler()\nX_scaled = scaler.fit_transform(X_train)\n\n# recursive feature elimination with cross validation, using r-squared score as metric\nlm = LinearRegression()  # using a linear model as before\nrfecv = RFECV(estimator=lm, step=1, cv=5) \nrfecv.fit(X_scaled, y_train)\n\n# print the optimal number of features\nprint('Optimal number of features: {}'.format(rfecv.n_features_))\n\n# save the selected features\nprint('Features selected: {}'.format(', '.join(np.array(feature_names)[rfecv.support_].tolist())))\n\n# get the feature elimination order\nranked_features, _ = zip(*sorted(zip(feature_names, rfecv.ranking_.tolist()),\n                                 key=lambda x: x[1],\n                                 reverse=True))\nprint('Suggested order of feature removal: {}'.format(', '.join(ranked_features)))\n\n# plot number of features vs. scores\nsns.set_style(\"darkgrid\")\nplt.figure(figsize=(8, 4))\nplt.xlabel(\"Number of features selected\")\nplt.ylabel(\"Score\")\nplt.plot(range(1, len(rfecv.grid_scores_) + 1), rfecv.grid_scores_)\nplt.show()",
      "execution_count": 11,
      "outputs": [
        {
          "name": "stderr",
          "output_type": "stream",
          "text": "/home/nbuser/anaconda2_410/lib/python2.7/site-packages/matplotlib/font_manager.py:273: UserWarning: Matplotlib is building the font cache using fc-list. This may take a moment.\n  warnings.warn('Matplotlib is building the font cache using fc-list. This may take a moment.')\n"
        },
        {
          "name": "stdout",
          "output_type": "stream",
          "text": "Optimal number of features: 1\nFeatures selected: wt\nSuggested order of feature removal: gear, vs, drat, cyl, carb, hp, disp, am, qsec, wt\n"
        },
        {
          "data": {
            "image/png": "[encoded data removed]",
            "text/plain": "<matplotlib.figure.Figure at 0x7fe04033dd10>"
          },
          "metadata": {},
          "output_type": "display_data"
        }
      ]
    },
    {
      "metadata": {},
      "cell_type": "markdown",
      "source": "The plot shows that the performance of the model (on the cross-validation testing set) tends to improve as we reduce the number of features in the model. As expected, weight and presence of an automatic transmission are among the features which would be removed last (since they are relevant for predicting gas mileage), whereas the number of forward gears is not so relevant.\n\nWe can now fit a linear model using only the selected features, and assess its performance on the test set:"
    },
    {
      "metadata": {
        "trusted": false
      },
      "cell_type": "code",
      "source": "X_train_subset = X_train[:, rfecv.support_]\nlm2 = LinearRegression()\nlm2.fit(X_train_subset, y_train)\n\nX_test_part = X_test[:, rfecv.support_]\npredicted = lm2.predict(X_test_part)\n\nr_squared = r2_score(y_test, predicted)\nmae = np.mean(abs(predicted - y_test))\nrmse = np.sqrt(np.mean((predicted - y_test)**2))\nrae = np.mean(abs(predicted - y_test)) / np.mean(abs(y_test - np.mean(y_test)))\nrse = np.mean((predicted - y_test)**2) / np.mean((y_test - np.mean(y_test))**2)\n\nsummary_df['Linear Regression, selected variables'] = [r_squared, mae, rmse, rae, rse]\nsummary_df",
      "execution_count": null,
      "outputs": [
        {
          "data": {
            "text/html": "<div>\n<table border=\"1\" class=\"dataframe\">\n  <thead>\n    <tr style=\"text-align: right;\">\n      <th></th>\n      <th>Linear Regression, all variables</th>\n      <th>Linear Regression, selected variables</th>\n    </tr>\n  </thead>\n  <tbody>\n    <tr>\n      <th>R-squared</th>\n      <td>0.534771</td>\n      <td>0.809249</td>\n    </tr>\n    <tr>\n      <th>Mean Absolute Error</th>\n      <td>3.064283</td>\n      <td>1.756430</td>\n    </tr>\n    <tr>\n      <th>Root Mean Squared Error</th>\n      <td>3.472463</td>\n      <td>2.223504</td>\n    </tr>\n    <tr>\n      <th>Relative Absolute Error</th>\n      <td>0.690154</td>\n      <td>0.395592</td>\n    </tr>\n    <tr>\n      <th>Relative Squared Error</th>\n      <td>0.465229</td>\n      <td>0.190751</td>\n    </tr>\n  </tbody>\n</table>\n</div>",
            "text/plain": "                         Linear Regression, all variables  \\\nR-squared                                        0.534771   \nMean Absolute Error                              3.064283   \nRoot Mean Squared Error                          3.472463   \nRelative Absolute Error                          0.690154   \nRelative Squared Error                           0.465229   \n\n                         Linear Regression, selected variables  \nR-squared                                             0.809249  \nMean Absolute Error                                   1.756430  \nRoot Mean Squared Error                               2.223504  \nRelative Absolute Error                               0.395592  \nRelative Squared Error                                0.190751  "
          },
          "execution_count": 12,
          "metadata": {},
          "output_type": "execute_result"
        }
      ]
    },
    {
      "metadata": {},
      "cell_type": "markdown",
      "source": "The model's performance on the withheld test set improved (by all metrics) after the majority of features were removed."
    },
    {
      "metadata": {},
      "cell_type": "markdown",
      "source": "### Gradient Boosting Machine Regression Model\n\nBefore fitting the gradient boosting model, we need to estimate some parameters and we'll do this using cross-validation along with grid search. The following code box may take some time to run:"
    },
    {
      "metadata": {
        "trusted": false
      },
      "cell_type": "code",
      "source": "from sklearn.grid_search import GridSearchCV\nfrom sklearn.ensemble import GradientBoostingRegressor\nfrom time import time\n\n# We will try all combinations of these possible parameter values\ntuned_params = {'n_estimators': [5000, 10000], \n                'max_depth': [2,4], \n                'min_samples_split': [1, 2],\n                'learning_rate': [0.001, 0.01]}\ngscv = GridSearchCV(GradientBoostingRegressor(loss = 'ls', random_state=0), \n                    tuned_params, cv=5, scoring='mean_squared_error')\n\n# th\nstart = time()\ngscv.fit(X_train, y_train)\n\nprint('The grid cross validation lasted {:0.1f} seconds'.format(time() - start))\nprint('Best parameters set found on development set:\\n\\t{}'.format(\n        ', '.join(['{}: {}'.format(i,j) for i,j in gscv.best_params_.items()])))\nprint('Grid scores on development set:')\nfor params, mean_score, scores in gscv.grid_scores_:\n    print('\\t{:0.2f} (+/- {:0.2f}) for {}'.format(mean_score,\n                                      scores.std() * 2,\n                                      ', '.join(['{}: {}'.format(i, j) for i, j in params.items()])))",
      "execution_count": null,
      "outputs": []
    },
    {
      "metadata": {},
      "cell_type": "markdown",
      "source": "We'll fit the GBM model with the parameters that gave the best performance:"
    },
    {
      "metadata": {
        "scrolled": true,
        "trusted": false
      },
      "cell_type": "code",
      "source": "# fit model with the best set of parameter values\nparams = gscv.best_params_\nparams['random_state'] = 123\nparams['loss'] = 'ls'\ngbm = GradientBoostingRegressor(**params)\n\ngbm.fit(X_train, y_train)",
      "execution_count": null,
      "outputs": []
    },
    {
      "metadata": {},
      "cell_type": "markdown",
      "source": "Now we can check the model's performance on the test data:"
    },
    {
      "metadata": {
        "trusted": false
      },
      "cell_type": "code",
      "source": "predicted = gbm.predict(X_test)\n\nr_squared = r2_score(y_test, predicted)\nmae = np.mean(abs(predicted - y_test))\nrmse = np.sqrt(np.mean((predicted - y_test)**2))\nrae = np.mean(abs(predicted - y_test)) / np.mean(abs(y_test - np.mean(y_test)))\nrse = np.mean((predicted - y_test)**2) / np.mean((y_test - np.mean(y_test))**2)\n\nsummary_df['Gradient Boosted Machine Regression'] = [r_squared, mae, rmse, rae, rse]\nsummary_df",
      "execution_count": null,
      "outputs": []
    },
    {
      "metadata": {},
      "cell_type": "markdown",
      "source": "The plot below shows the feature importances:"
    },
    {
      "metadata": {
        "trusted": false
      },
      "cell_type": "code",
      "source": "# plot variable importance\nimport numpy as np\nimport matplotlib.pyplot as plt\n\nfeature_importance = gbm.feature_importances_\nfeature_importance = 100.0 * (feature_importance / feature_importance.max())\nsorted_idx = np.argsort(feature_importance)[::-1]\n\nsns.set_style(\"darkgrid\")\nplt.figure(figsize=(10, 6))\nindex = np.arange(len(feature_names))\nbar_width = 0.5\nplt.bar(index, feature_importance[sorted_idx], color='black', alpha=0.5)\nplt.xlabel('features')\nplt.ylabel('importance')\nplt.title('Feature importance')\nplt.xticks(index + bar_width, np.array(feature_names)[sorted_idx])\nplt.tight_layout()\nplt.show()",
      "execution_count": null,
      "outputs": []
    },
    {
      "metadata": {},
      "cell_type": "markdown",
      "source": "Some features which were eliminated later by RFE (like `am`) have low feature importance in the GBM model.\n\nLet's assess whether our GBM model's performance is likely to be limited by the number of estimators used:"
    },
    {
      "metadata": {
        "scrolled": false,
        "trusted": false
      },
      "cell_type": "code",
      "source": "# plot deviance for training set and test set\ntest_score = np.zeros(params['n_estimators'])\n\nfor j, y_pred in enumerate(gbm.staged_decision_function(X_test)):\n    test_score[j] = gbm.loss_(y_test, y_pred)\n\nsns.set_style(\"darkgrid\")\nplt.figure(figsize=(10, 6))\nplt.title('Deviance')\nplt.plot(np.arange(params['n_estimators']) + 1, gbm.train_score_, 'b-',\n         label='Training Set Deviance')\nplt.plot(np.arange(params['n_estimators']) + 1, test_score, 'r-',\n         label='Test Set Deviance')\nplt.legend(loc='upper right')\nplt.xlabel('Number of estimators')\nplt.ylabel('Deviance')",
      "execution_count": null,
      "outputs": []
    },
    {
      "metadata": {},
      "cell_type": "markdown",
      "source": "The plot above demonstrates that the loss function plateaus well before we reach the total number of estimators used by our model. We could likely get away with using fewer estimators for a speed improvement."
    },
    {
      "metadata": {},
      "cell_type": "markdown",
      "source": "## Conclusion\nThe following table compares the performance of the three models. Variable selection using RFE improved the performance of the linear regression model by all metrics. The GBM model performed comparably to linear regression with variable selection. (We will avoid reading too deeply into the differences in metrics, because the test dataset is so small.)"
    },
    {
      "metadata": {
        "scrolled": false,
        "trusted": false
      },
      "cell_type": "code",
      "source": "summary_df",
      "execution_count": null,
      "outputs": []
    }
  ],
  "metadata": {
    "kernelspec": {
      "display_name": "Python 2",
      "language": "python",
      "name": "python2"
    },
    "language_info": {
      "codemirror_mode": {
        "name": "ipython",
        "version": 2
      },
      "file_extension": ".py",
      "mimetype": "text/x-python",
      "name": "python",
      "nbconvert_exporter": "python",
      "pygments_lexer": "ipython2",
      "version": "2.7.11"
    }
  },
  "nbformat": 4,
  "nbformat_minor": 1
}